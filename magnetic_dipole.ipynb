{
 "cells": [
  {
   "cell_type": "code",
   "execution_count": 1,
   "metadata": {},
   "outputs": [],
   "source": [
    "import numpy as np\n",
    "import matplotlib.pyplot as plt\n",
    "from matplotlib.colors import Normalize, LogNorm, SymLogNorm\n",
    "from scipy.constants import mu_0\n",
    "import ipywidgets"
   ]
  },
  {
   "cell_type": "code",
   "execution_count": 2,
   "metadata": {},
   "outputs": [],
   "source": [
    "moment = 1\n",
    "orientation = np.r_[0, 0, 1]\n",
    "location = np.r_[0, 0, 0]"
   ]
  },
  {
   "cell_type": "markdown",
   "metadata": {},
   "source": [
    "$$\n",
    "\\vec{b} = \\frac{\\mu_0}{4 \\pi}\\left(\\frac{3\\hat{r}(\\vec{m}\\cdot\\hat{r}) - \\vec{m}}{r^3}\\right)\n",
    "$$"
   ]
  },
  {
   "cell_type": "code",
   "execution_count": null,
   "metadata": {},
   "outputs": [],
   "source": [
    "def vector_distance(xyz, origin=np.r_[0, 0, 0]):\n",
    "    \"\"\"\n",
    "    Vector distance between data points (xyz) and an origin point\n",
    "    \"\"\"\n",
    "    dx = xyz[:, 0] - origin[0]\n",
    "    dy = xyz[:, 1] - origin[1]\n",
    "    dz = xyz[:, 2] - origin[2]\n",
    "\n",
    "    return np.vstack([dx, dy, dz]).T"
   ]
  },
  {
   "cell_type": "code",
   "execution_count": null,
   "metadata": {},
   "outputs": [],
   "source": [
    "def dipole_magnetic_flux(\n",
    "    xyz, orientation=np.r_[1, 0, 0], location=np.r_[0, 0, 0], moment=1\n",
    "):\n",
    "    \"\"\"\n",
    "    solution for a static magnetic dipole in a wholespace\n",
    "    \"\"\"\n",
    "    # normalize orientation to unit vector \n",
    "    orientation = orientation / np.linalg.norm(orientation)\n",
    "    \n",
    "    # nnunmber of observed data \n",
    "    n_obs = xyz.shape[0]\n",
    "    \n",
    "    # distance between data and dipole\n",
    "    r_vec = vector_distance(xyz, location)\n",
    "    \n",
    "    r_amplitude = np.sqrt((r_vec**2).sum(1)) # sqrt(sum(x^2 + y^2 + z^2))\n",
    "    r_amplitude = r_amplitude[:, None].repeat(3, axis=1)  # repeat since we are working with vectors\n",
    "    \n",
    "    r_hat = r_vec / r_amplitude\n",
    "    \n",
    "    # broadcast moment so we are working with m of the right size\n",
    "    m_vec = (\n",
    "        moment * np.atleast_2d(orientation).repeat(n_obs, axis=0)\n",
    "    )\n",
    "    m_dot_r_hat = (m_vec * r_hat).sum(axis=1)\n",
    "\n",
    "    # Repeat the scalars\n",
    "    m_dot_r_hat = np.atleast_2d(m_dot_r_hat).T.repeat(3, axis=1)\n",
    "\n",
    "    b = (mu_0 / (4 * np.pi)) * (\n",
    "        (3 * r_hat * m_dot_r_hat - m_vec) / r_amplitude**3\n",
    "    )\n",
    "\n",
    "    return b"
   ]
  },
  {
   "cell_type": "code",
   "execution_count": null,
   "metadata": {},
   "outputs": [],
   "source": [
    "x = np.linspace(-36, 36, 100)\n",
    "y = np.linspace(-36, 36, 100)\n",
    "z = np.r_[10]"
   ]
  },
  {
   "cell_type": "code",
   "execution_count": null,
   "metadata": {},
   "outputs": [],
   "source": [
    "xyz_list = np.meshgrid(x, y, z)"
   ]
  },
  {
   "cell_type": "code",
   "execution_count": null,
   "metadata": {},
   "outputs": [],
   "source": [
    "xyz = np.vstack([dim.flatten() for dim in xyz_list]).T"
   ]
  },
  {
   "cell_type": "code",
   "execution_count": null,
   "metadata": {},
   "outputs": [],
   "source": [
    "magnetic_flux = dipole_magnetic_flux(xyz)"
   ]
  },
  {
   "cell_type": "code",
   "execution_count": null,
   "metadata": {},
   "outputs": [],
   "source": [
    "def plot_component(v, ax, component=\"amplitude\", logscale=False):\n",
    "    \n",
    "    norm = Normalize()\n",
    "    \n",
    "    if component.lower() == \"amplitude\":\n",
    "        plotme = np.sqrt((v**2).sum(1))\n",
    "        if logscale is True:\n",
    "            norm = LogNorm()\n",
    "    else:\n",
    "        if logscale is True:\n",
    "            norm = SymLogNorm()\n",
    "        if component.lower() == \"x\":\n",
    "            plotme = v[:, 0]\n",
    "        elif component.lower() == \"y\":\n",
    "            plotme = v[:, 1]\n",
    "        elif component.lower() == \"z\":\n",
    "            plotme = v[:, 2]\n",
    "        else: \n",
    "            raise Exception(f\"invalid component {component}. component must be in ['amplitude', 'x', 'y', 'z']\")\n",
    "        \n",
    "    plt.colorbar(\n",
    "        ax.pcolormesh(\n",
    "            x, y, plotme.reshape(len(x), len(y)), norm=norm\n",
    "        ), ax=ax\n",
    "    )\n",
    "    ax.axis('square')\n",
    "    ax.set_xlabel('x')\n",
    "    ax.set_ylabel('y')"
   ]
  },
  {
   "cell_type": "code",
   "execution_count": null,
   "metadata": {},
   "outputs": [],
   "source": [
    "def plot_streamlines(v, ax):\n",
    "    vx = v[:, 0].reshape(len(x), len(y))\n",
    "    vy = v[:, 1].reshape(len(x), len(y))\n",
    "    ax.streamplot(x, y, vx, vy, color='k')"
   ]
  },
  {
   "cell_type": "code",
   "execution_count": null,
   "metadata": {},
   "outputs": [],
   "source": [
    "fig, ax = plt.subplots(1, 1)\n",
    "plot_component(magnetic_flux, ax)\n",
    "plot_streamlines(magnetic_flux, ax)"
   ]
  },
  {
   "cell_type": "code",
   "execution_count": null,
   "metadata": {},
   "outputs": [],
   "source": []
  }
 ],
 "metadata": {
  "kernelspec": {
   "display_name": "Python 3",
   "language": "python",
   "name": "python3"
  },
  "language_info": {
   "codemirror_mode": {
    "name": "ipython",
    "version": 3
   },
   "file_extension": ".py",
   "mimetype": "text/x-python",
   "name": "python",
   "nbconvert_exporter": "python",
   "pygments_lexer": "ipython3",
   "version": "3.8.5"
  }
 },
 "nbformat": 4,
 "nbformat_minor": 4
}
